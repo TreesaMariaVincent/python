{
 "cells": [
  {
   "cell_type": "code",
   "execution_count": 3,
   "id": "196c16b2-e4db-472c-b71b-5bccc1deeff6",
   "metadata": {},
   "outputs": [
    {
     "name": "stdin",
     "output_type": "stream",
     "text": [
      "string1:  100\n",
      "string2:  0\n"
     ]
    },
    {
     "name": "stdout",
     "output_type": "stream",
     "text": [
      "The string '0' can be built from '100'.\n"
     ]
    }
   ],
   "source": [
    "## Task 1\n",
    "from collections import Counter\n",
    "\n",
    "def can_build_string(str1, str2):\n",
    "    count_str1 = Counter(str1)\n",
    "    count_str2 = Counter(str2)\n",
    "    \n",
    "    for char, count in count_str2.items():\n",
    "        if count_str1[char] < count:\n",
    "            return False\n",
    "    return True\n",
    "\n",
    "str1 = input(\"string1: \")\n",
    "str2 = input(\"string2: \")\n",
    "\n",
    "if can_build_string(str1, str2):\n",
    "    print(f\"The string '{str2}' can be built from '{str1}'.\")\n",
    "else:\n",
    "    print(f\"The string '{str2}' cannot be built from '{str1}'.\")\n"
   ]
  },
  {
   "cell_type": "code",
   "execution_count": 12,
   "id": "5bfc1fcc-1c12-4451-af74-5625c4bc8ea5",
   "metadata": {},
   "outputs": [
    {
     "name": "stdin",
     "output_type": "stream",
     "text": [
      "Enter numbers separated by space:  1 0 \n"
     ]
    },
    {
     "name": "stdout",
     "output_type": "stream",
     "text": [
      "1\n"
     ]
    }
   ],
   "source": [
    "##Tast2\n",
    "def calculate_power(*args):\n",
    "    if len(args) == 1:\n",
    "        return args[0] ** 2\n",
    "    elif len(args) == 2:\n",
    "        return args[0] ** args[1]\n",
    "    elif len(args) > 2:\n",
    "        sum_of_numbers = sum(args[:-1])\n",
    "        return sum_of_numbers ** args[-1]  \n",
    "inputs = input(\"Enter numbers separated by space: \").split()\n",
    "inputs = [int(i) for i in inputs]\n",
    "\n",
    "print(calculate_power(*inputs))\n"
   ]
  },
  {
   "cell_type": "code",
   "execution_count": 19,
   "id": "37add5ff-efba-403b-89af-8ce3d8d131f9",
   "metadata": {},
   "outputs": [
    {
     "name": "stdin",
     "output_type": "stream",
     "text": [
      "ID:  1\n",
      "Name:  kjj\n",
      "Position:  ji\n",
      "Salary: Rs 500\n"
     ]
    },
    {
     "ename": "AttributeError",
     "evalue": "'Employee' object has no attribute 'Emp_id'",
     "output_type": "error",
     "traceback": [
      "\u001b[31m---------------------------------------------------------------------------\u001b[39m",
      "\u001b[31mAttributeError\u001b[39m                            Traceback (most recent call last)",
      "\u001b[36mCell\u001b[39m\u001b[36m \u001b[39m\u001b[32mIn[19]\u001b[39m\u001b[32m, line 23\u001b[39m\n\u001b[32m     18\u001b[39m salary = \u001b[38;5;28mfloat\u001b[39m(\u001b[38;5;28minput\u001b[39m(\u001b[33m\"\u001b[39m\u001b[33mSalary: Rs\u001b[39m\u001b[33m\"\u001b[39m))\n\u001b[32m     21\u001b[39m employee = Employee(employee_id, name, position, salary)\n\u001b[32m---> \u001b[39m\u001b[32m23\u001b[39m \u001b[43memployee\u001b[49m\u001b[43m.\u001b[49m\u001b[43mdisplay_employee_details\u001b[49m\u001b[43m(\u001b[49m\u001b[43m)\u001b[49m\n",
      "\u001b[36mCell\u001b[39m\u001b[36m \u001b[39m\u001b[32mIn[19]\u001b[39m\u001b[32m, line 9\u001b[39m, in \u001b[36mEmployee.display_employee_details\u001b[39m\u001b[34m(self)\u001b[39m\n\u001b[32m      8\u001b[39m \u001b[38;5;28;01mdef\u001b[39;00m\u001b[38;5;250m \u001b[39m\u001b[34mdisplay_employee_details\u001b[39m(\u001b[38;5;28mself\u001b[39m):\n\u001b[32m----> \u001b[39m\u001b[32m9\u001b[39m     \u001b[38;5;28mprint\u001b[39m(\u001b[33mf\u001b[39m\u001b[33m\"\u001b[39m\u001b[33mEmployee ID: \u001b[39m\u001b[38;5;132;01m{\u001b[39;00m\u001b[38;5;28;43mself\u001b[39;49m\u001b[43m.\u001b[49m\u001b[43mEmp_id\u001b[49m\u001b[38;5;132;01m}\u001b[39;00m\u001b[33m\"\u001b[39m)\n\u001b[32m     10\u001b[39m     \u001b[38;5;28mprint\u001b[39m(\u001b[33mf\u001b[39m\u001b[33m\"\u001b[39m\u001b[33mName: \u001b[39m\u001b[38;5;132;01m{\u001b[39;00m\u001b[38;5;28mself\u001b[39m.name\u001b[38;5;132;01m}\u001b[39;00m\u001b[33m\"\u001b[39m)\n\u001b[32m     11\u001b[39m     \u001b[38;5;28mprint\u001b[39m(\u001b[33mf\u001b[39m\u001b[33m\"\u001b[39m\u001b[33mPosition: \u001b[39m\u001b[38;5;132;01m{\u001b[39;00m\u001b[38;5;28mself\u001b[39m.position\u001b[38;5;132;01m}\u001b[39;00m\u001b[33m\"\u001b[39m)\n",
      "\u001b[31mAttributeError\u001b[39m: 'Employee' object has no attribute 'Emp_id'"
     ]
    }
   ],
   "source": [
    "class Employee:\n",
    "    def __init__(self, employee_id, name, position, salary):\n",
    "        self.emp_id = employee_id\n",
    "        self.name = name\n",
    "        self.position = position\n",
    "        self.salary = salary\n",
    "\n",
    "    def display_employee_details(self):\n",
    "        print(f\"Employee ID: {self.Emp_id}\")\n",
    "        print(f\"Name: {self.name}\")\n",
    "        print(f\"Position: {self.position}\")\n",
    "        print(f\"Salary: Rs{self.salary}\")\n",
    "\n",
    "\n",
    "Emp_id = int(input(\"ID: \"))\n",
    "name = input(\"Name: \")\n",
    "position = input(\"Position: \")\n",
    "salary = float(input(\"Salary: Rs\"))\n",
    "\n",
    "\n",
    "employee = Employee(employee_id, name, position, salary)\n",
    "\n",
    "employee.display_employee_details()\n"
   ]
  },
  {
   "cell_type": "code",
   "execution_count": null,
   "id": "7ad4b311-9378-4354-bd0d-cbba00932216",
   "metadata": {},
   "outputs": [],
   "source": []
  }
 ],
 "metadata": {
  "kernelspec": {
   "display_name": "Python 3 (ipykernel)",
   "language": "python",
   "name": "python3"
  },
  "language_info": {
   "codemirror_mode": {
    "name": "ipython",
    "version": 3
   },
   "file_extension": ".py",
   "mimetype": "text/x-python",
   "name": "python",
   "nbconvert_exporter": "python",
   "pygments_lexer": "ipython3",
   "version": "3.13.2"
  }
 },
 "nbformat": 4,
 "nbformat_minor": 5
}
